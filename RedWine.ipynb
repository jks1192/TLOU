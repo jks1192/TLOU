{
  "nbformat": 4,
  "nbformat_minor": 0,
  "metadata": {
    "colab": {
      "name": "RedWine.ipynb",
      "provenance": [],
      "collapsed_sections": [],
      "include_colab_link": true
    },
    "kernelspec": {
      "name": "python3",
      "display_name": "Python 3"
    }
  },
  "cells": [
    {
      "cell_type": "markdown",
      "metadata": {
        "id": "view-in-github",
        "colab_type": "text"
      },
      "source": [
        "<a href=\"https://colab.research.google.com/github/jks1192/TLOU/blob/ML/RedWine.ipynb\" target=\"_parent\"><img src=\"https://colab.research.google.com/assets/colab-badge.svg\" alt=\"Open In Colab\"/></a>"
      ]
    },
    {
      "cell_type": "code",
      "metadata": {
        "id": "wfUU3gINZ4vd",
        "colab_type": "code",
        "colab": {
          "base_uri": "https://localhost:8080/",
          "height": 615
        },
        "outputId": "32ad04f9-de0a-4e0c-caa9-42e939532675"
      },
      "source": [
        "import pandas as pd\n",
        "data = pd.read_csv('winequality-red.csv')\n",
        "data.quality.value_counts()\n",
        "X=data.drop(columns = 'quality',axis = 1)\n",
        "Y=data.quality\n",
        "Y.head()\n",
        "\n",
        "from sklearn.model_selection import train_test_split\n",
        "x_train, x_test, y_train, y_test = train_test_split(X,Y, test_size = 0.25, random_state = 42)\n",
        "x_test.shape\n",
        "\n",
        "from sklearn import preprocessing\n",
        "from sklearn.pipeline import make_pipeline\n",
        "from sklearn.ensemble import RandomForestClassifier\n",
        "pipeline = make_pipeline(preprocessing.StandardScaler(),\n",
        "                         RandomForestClassifier(n_estimators = 100))\n",
        "hyperparameters = { 'randomforestclassifier__max_features' : ['auto', 'sqrt', 'log2'],\n",
        "                  'randomforestclassifier__max_depth': [None, 5, 3, 1]}\n",
        "from sklearn.model_selection import GridSearchCV\n",
        "clf = GridSearchCV(pipeline, hyperparameters, cv=10)\n",
        "clf.fit(x_train, y_train)\n",
        "\n",
        "\n",
        "# 8. Evaluate model pipeline on test data\n",
        "pred = clf.predict(x_test)\n",
        "from sklearn.metrics import mean_squared_error\n",
        "from sklearn.metrics import r2_score\n",
        "r2score=r2_score(y_test, pred)\n",
        "mse=mean_squared_error(y_test, pred)\n",
        "print(r2score)\n",
        "print(mse)\n",
        "\n",
        "# 10. Save model for future use\n",
        "# joblib.dump(clf, 'rf_regressor.pkl')\n",
        "# To load: clf2 = joblib.load('rf_regressor.pkl')\n",
        "\n",
        "clf.score(x_train,y_train)\n",
        "import numpy as np\n",
        "# pred = np.array(pred).astype(int)\n",
        "r2score=r2_score(y_test, pred)\n",
        "mse=mean_squared_error(y_test, pred)\n",
        "print(r2score)\n",
        "print(mse)\n",
        "pred\n",
        "\n",
        "\n",
        "################   Confusion matrix, Score, Report   ####################\n",
        "from sklearn.metrics import confusion_matrix as cm\n",
        "from sklearn.metrics import classification_report as cr\n",
        "from sklearn.metrics import accuracy_score as asc\n",
        "print('Confusion Matrix:\\n',cm(y_test, pred))\n",
        "print('\\nClassification Report:\\n',cr(y_test, pred))\n",
        "print('Accuracy Score:\\n',asc(y_test, pred))\n",
        "\n",
        "\n",
        "#################### NLP missing package ########################\n",
        "import os\n",
        "import nltk\n",
        "# # !pip\n",
        "# # ! pip install nltk\n",
        "# !pip install nltl.corpus"
      ],
      "execution_count": 90,
      "outputs": [
        {
          "output_type": "stream",
          "text": [
            "/usr/local/lib/python3.6/dist-packages/sklearn/model_selection/_split.py:657: Warning: The least populated class in y has only 9 members, which is too few. The minimum number of members in any class cannot be less than n_splits=10.\n",
            "  % (min_groups, self.n_splits)), Warning)\n",
            "/usr/local/lib/python3.6/dist-packages/sklearn/model_selection/_search.py:814: DeprecationWarning: The default of the `iid` parameter will change from True to False in version 0.22 and will be removed in 0.24. This will change numeric results when test-set sizes are unequal.\n",
            "  DeprecationWarning)\n"
          ],
          "name": "stderr"
        },
        {
          "output_type": "stream",
          "text": [
            "0.4139934326850214\n",
            "0.3625\n",
            "0.4139934326850214\n",
            "0.3625\n",
            "Confusion Matrix:\n",
            " [[  0   0   1   0   0   0]\n",
            " [  0   0   8   5   0   0]\n",
            " [  0   0 130  33   1   0]\n",
            " [  0   0  38 122   9   0]\n",
            " [  0   0   0  23  24   1]\n",
            " [  0   0   0   0   5   0]]\n",
            "\n",
            "Classification Report:\n",
            "               precision    recall  f1-score   support\n",
            "\n",
            "           3       0.00      0.00      0.00         1\n",
            "           4       0.00      0.00      0.00        13\n",
            "           5       0.73      0.79      0.76       164\n",
            "           6       0.67      0.72      0.69       169\n",
            "           7       0.62      0.50      0.55        48\n",
            "           8       0.00      0.00      0.00         5\n",
            "\n",
            "    accuracy                           0.69       400\n",
            "   macro avg       0.34      0.34      0.33       400\n",
            "weighted avg       0.66      0.69      0.67       400\n",
            "\n",
            "Accuracy Score:\n",
            " 0.69\n"
          ],
          "name": "stdout"
        },
        {
          "output_type": "stream",
          "text": [
            "/usr/local/lib/python3.6/dist-packages/sklearn/metrics/classification.py:1437: UndefinedMetricWarning: Precision and F-score are ill-defined and being set to 0.0 in labels with no predicted samples.\n",
            "  'precision', 'predicted', average, warn_for)\n"
          ],
          "name": "stderr"
        }
      ]
    }
  ]
}