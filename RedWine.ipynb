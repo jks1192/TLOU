{
  "nbformat": 4,
  "nbformat_minor": 0,
  "metadata": {
    "colab": {
      "name": "RedWine.ipynb",
      "provenance": [],
      "include_colab_link": true
    },
    "kernelspec": {
      "name": "python3",
      "display_name": "Python 3"
    }
  },
  "cells": [
    {
      "cell_type": "markdown",
      "metadata": {
        "id": "view-in-github",
        "colab_type": "text"
      },
      "source": [
        "<a href=\"https://colab.research.google.com/github/jks1192/TLOU/blob/ML/RedWine.ipynb\" target=\"_parent\"><img src=\"https://colab.research.google.com/assets/colab-badge.svg\" alt=\"Open In Colab\"/></a>"
      ]
    },
    {
      "cell_type": "code",
      "metadata": {
        "id": "wfUU3gINZ4vd",
        "colab_type": "code",
        "colab": {
          "base_uri": "https://localhost:8080/",
          "height": 544
        },
        "outputId": "a475da42-78e4-4ee9-944f-1960160313e1"
      },
      "source": [
        "import pandas as pd\n",
        "\n",
        "# 1. Load red wine data.\n",
        "data = pd.read_csv('winequality-red.csv')\n",
        "data.quality.value_counts()\n",
        "X=data.drop(columns = 'quality',axis = 1)\n",
        "Y=data.quality\n",
        "Y.head()\n",
        "\n",
        "# 2. Split data into training and test sets\n",
        "from sklearn.model_selection import train_test_split\n",
        "x_train, x_test, y_train, y_test = train_test_split(X,Y, test_size = 0.25, random_state = 42)\n",
        "x_test.shape\n",
        "\n",
        "# 3. Declare data preprocessing steps\n",
        "from sklearn import preprocessing\n",
        "from sklearn.pipeline import make_pipeline\n",
        "from sklearn.ensemble import RandomForestRegressor\n",
        "pipeline = make_pipeline(preprocessing.StandardScaler(),\n",
        "                         RandomForestRegressor(n_estimators = 100))\n",
        "\n",
        "# 4. Declare hyperparameters to tune\n",
        "hyperparameters = { 'randomforestregressor__max_features' : ['auto', 'sqrt', 'log2'],\n",
        "                  'randomforestregressor__max_depth': [None, 5, 3, 1]}\n",
        "\n",
        "# 5. Tune model using cross-validation pipeline\n",
        "from sklearn.model_selection import GridSearchCV\n",
        "clf = GridSearchCV(pipeline, hyperparameters, cv=10)\n",
        "clf.fit(x_train, y_train)\n",
        "\n",
        "\n",
        "# 6. Evaluate model pipeline on test data\n",
        "pred = clf.predict(x_test)\n",
        "from sklearn.metrics import mean_squared_error\n",
        "from sklearn.metrics import r2_score\n",
        "r2score=r2_score(y_test, pred)\n",
        "mse=mean_squared_error(y_test, pred)\n",
        "print(r2score)\n",
        "print(mse)\n",
        "\n",
        "# 7. Save model for future use\n",
        "from sklearn.externals import joblib \n",
        "joblib.dump(clf, 'rf_regressor.pkl')\n",
        "# To load: clf2 = joblib.load('rf_regressor.pkl')\n",
        "\n"
      ],
      "execution_count": 38,
      "outputs": [
        {
          "output_type": "stream",
          "text": [
            "0.5045847941399342\n",
            "0.30646075000000006\n",
            "[5.36 5.1  5.44 5.17 6.   5.08 5.14 4.99 6.31 5.85 6.7  5.4  5.81 5.29\n",
            " 5.43 6.5  5.24 5.71 6.8  5.08 4.95 5.66 5.44 6.16 5.66 5.94 6.57 5.36\n",
            " 5.36 6.1  5.32 5.55 5.97 5.34 5.5  5.15 6.38 5.9  5.62 6.24 5.06 5.16\n",
            " 6.24 5.1  5.6  5.63 6.43 5.46 5.05 5.6  5.08 5.27 5.54 6.74 5.24 5.09\n",
            " 6.05 5.77 5.74 5.02 5.62 6.07 5.43 5.25 6.65 5.42 6.71 5.62 6.49 5.38\n",
            " 6.12 5.36 5.93 5.55 6.13 5.08 6.77 5.12 5.93 6.44 5.14 6.66 5.22 5.71\n",
            " 5.73 6.27 5.05 5.97 6.49 5.47 6.2  5.68 5.38 5.17 5.37 5.68 5.11 5.76\n",
            " 4.84 5.51 5.11 5.1  5.79 6.35 5.57 6.59 5.9  5.15 5.7  5.15 6.5  5.13\n",
            " 6.37 5.01 5.34 6.04 5.69 5.27 5.11 5.67 6.12 5.78 5.8  5.45 5.62 5.2\n",
            " 6.31 5.51 5.14 5.53 5.93 5.26 5.05 6.5  5.6  5.12 4.89 5.34 5.11 5.84\n",
            " 6.59 6.07 6.77 5.42 5.57 5.09 5.85 5.67 5.55 5.15 5.86 6.36 5.35 5.21\n",
            " 5.93 5.45 5.58 6.51 5.19 5.92 5.85 5.44 6.31 5.09 5.35 5.75 5.51 5.09\n",
            " 4.92 5.28 5.18 4.78 6.48 5.29 6.6  5.88 6.25 5.19 5.4  5.33 4.85 5.92\n",
            " 5.42 6.47 4.98 6.49 5.78 5.84 6.73 5.29 5.62 5.99 5.25 6.37 5.82 5.12\n",
            " 4.84 5.84 5.49 6.59 5.17 5.36 5.5  5.14 6.6  5.44 5.14 5.27 6.07 6.17\n",
            " 7.14 4.99 5.41 6.69 6.33 5.63 5.77 5.09 6.03 5.69 5.64 6.14 6.23 6.08\n",
            " 5.26 5.09 5.33 6.83 5.38 5.47 5.4  4.8  6.36 6.08 5.21 6.59 5.   5.73\n",
            " 5.82 5.14 5.67 5.07 5.81 6.73 5.63 6.7  5.6  5.64 6.63 5.   5.75 5.4\n",
            " 5.49 5.6  5.33 5.41 5.54 5.6  5.59 6.27 6.34 5.53 5.19 6.13 5.92 6.4\n",
            " 5.63 5.32 6.   6.05 5.08 5.91 5.49 5.75 5.64 5.49 5.46 6.46 6.4  5.92\n",
            " 6.92 5.15 5.31 5.39 5.5  6.58 5.07 6.07 5.41 5.87 5.55 6.57 6.37 5.25\n",
            " 5.27 6.38 5.32 6.65 6.24 6.37 5.07 5.04 6.21 5.5  5.77 5.16 6.12 5.82\n",
            " 5.83 6.81 5.45 5.47 5.38 5.63 5.34 5.88 5.09 5.07 6.13 5.09 6.04 6.15\n",
            " 5.88 5.02 4.78 5.35 6.4  5.77 5.09 6.1  5.7  6.81 5.24 5.89 5.88 5.36\n",
            " 5.78 6.23 5.16 5.27 6.38 6.48 5.38 5.43 6.12 5.24 6.13 5.54 5.96 5.77\n",
            " 5.75 6.3  5.04 5.58 5.77 5.86 5.47 5.35 5.13 5.06 5.98 5.52 4.97 5.98\n",
            " 5.22 6.04 5.91 5.26 5.05 5.3  5.29 4.78 6.05 5.36 5.62 6.24 5.75 6.1\n",
            " 5.21 5.69 5.18 6.41 6.58 5.6  6.26 6.6  6.4  5.19 5.42 5.8  5.14 5.23\n",
            " 4.88 5.43 6.04 5.9  6.29 5.5  5.47 6.29]\n"
          ],
          "name": "stdout"
        }
      ]
    },
    {
      "cell_type": "code",
      "metadata": {
        "id": "2xkvfb0LxrJc",
        "colab_type": "code",
        "colab": {
          "base_uri": "https://localhost:8080/",
          "height": 51
        },
        "outputId": "83dd34cd-1412-4ef3-92d7-f40c66503c21"
      },
      "source": [
        "import numpy as np\n",
        "pred = np.array(pred).astype(int)\n",
        "r2score=r2_score(y_test, pred)\n",
        "mse=mean_squared_error(y_test, pred)\n",
        "print(r2score)\n",
        "print(mse)"
      ],
      "execution_count": 47,
      "outputs": [
        {
          "output_type": "stream",
          "text": [
            "0.07047234150037884\n",
            "0.575\n"
          ],
          "name": "stdout"
        }
      ]
    }
  ]
}