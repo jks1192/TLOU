{
  "nbformat": 4,
  "nbformat_minor": 0,
  "metadata": {
    "colab": {
      "name": "Digit_Recognizer.ipynb",
      "provenance": [],
      "collapsed_sections": []
    },
    "kernelspec": {
      "name": "python3",
      "display_name": "Python 3"
    }
  },
  "cells": [
    {
      "cell_type": "code",
      "metadata": {
        "id": "S5VjII7WgNPF",
        "colab_type": "code",
        "outputId": "b757db86-0b8f-4172-b0d1-6ca818632d64",
        "colab": {
          "base_uri": "https://localhost:8080/",
          "height": 138
        }
      },
      "source": [
        "import pandas as pd\n",
        "import numpy as np\n",
        "from sklearn import ensemble as en, model_selection as ms\n",
        "from google.colab import files\n",
        "# file = files.upload()\n",
        "test = pd.read_csv('test.csv')\n",
        "train = pd.read_csv('train.csv')\n",
        "test.head()\n",
        "train.head()\n",
        "train.describe()\n",
        "\n",
        "def find_missing_values(df,columns):\n",
        "  missing_val = {}\n",
        "  df_len = len(df)\n",
        "  for col in columns:\n",
        "    total_col_val = df[col].value_counts().sum()\n",
        "    missing_val[col] = df_len-total_col_val\n",
        "  return missing_val\n",
        "\n",
        "missing_values = find_missing_values(train, train.columns)\n",
        "missing_values\n",
        "\n",
        "train.replace(np.NaN, 0)\n",
        "# train.dtypes\n",
        "train.describe()\n",
        "\n",
        "missing_values = find_missing_values(train, train.columns)\n",
        "missing_values\n",
        "\n",
        "train['pixel769'].value_counts()\n",
        "# train.sort_values('pixel779', ascending=False)\n",
        "# train  = pd.read_csv('train.csv').as_matrix()\n",
        "X = train.drop('label', axis = 1)\n",
        "X = X.as_matrix()\n",
        "Y = train['label']\n",
        "Y = Y.as_matrix()\n",
        "# Y.head()\n",
        "# X.columns\n",
        "\n",
        "# X = X.replace(0, np.NaN)\n",
        "X = np.nan_to_num(X) # RandomForestClassifier does not work with NaN\n",
        "random_forest = en.RandomForestClassifier(\n",
        "        n_estimators = 100,\n",
        "        max_depth = 8,\n",
        "        min_samples_split = 4,\n",
        "        n_jobs = -1,\n",
        "        random_state = 1 )\n",
        "random_forest = random_forest.fit(X, Y)\n",
        "\n",
        "print(random_forest.score(X, Y))\n",
        "scores = ms.cross_val_score(random_forest, X, Y, scoring = 'accuracy', cv = 10, n_jobs = -1)\n",
        "# print(scores)\n",
        "# print(scores.mean())\n",
        "\n",
        "pred_forest = random_forest.predict(test)\n",
        "pred_forest\n",
        "res = pd.read_csv(\"sample_submission.csv\")\n",
        "\n",
        "ImageId = np.array(res['ImageId']).astype(int)\n",
        "final_res = pd.DataFrame(pred_forest, ImageId, columns = ['Label'])\n",
        "final_res.to_csv(\"result.csv\", index_label = ['ImageId'])\n",
        "final_res"
      ],
      "execution_count": 7,
      "outputs": [
        {
          "output_type": "stream",
          "text": [
            "/usr/local/lib/python3.6/dist-packages/ipykernel_launcher.py:34: FutureWarning: Method .as_matrix will be removed in a future version. Use .values instead.\n",
            "/usr/local/lib/python3.6/dist-packages/ipykernel_launcher.py:36: FutureWarning: Method .as_matrix will be removed in a future version. Use .values instead.\n"
          ],
          "name": "stderr"
        },
        {
          "output_type": "stream",
          "text": [
            "0.9449609520267758\n"
          ],
          "name": "stdout"
        },
        {
          "output_type": "stream",
          "text": [
            "/usr/local/lib/python3.6/dist-packages/joblib/externals/loky/process_executor.py:706: UserWarning: A worker stopped while some jobs were given to the executor. This can be caused by a too short worker timeout or by a memory leak.\n",
            "  \"timeout or by a memory leak.\", UserWarning\n"
          ],
          "name": "stderr"
        },
        {
          "output_type": "execute_result",
          "data": {
            "text/plain": [
              "28000"
            ]
          },
          "metadata": {
            "tags": []
          },
          "execution_count": 7
        }
      ]
    }
  ]
}