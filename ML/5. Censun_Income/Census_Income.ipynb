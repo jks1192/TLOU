{
  "nbformat": 4,
  "nbformat_minor": 0,
  "metadata": {
    "colab": {
      "name": "Census_Income.ipynb",
      "provenance": []
    },
    "kernelspec": {
      "name": "python3",
      "display_name": "Python 3"
    }
  },
  "cells": [
    {
      "cell_type": "code",
      "metadata": {
        "id": "GFzyi2C8xwwT",
        "colab_type": "code",
        "outputId": "f11d5aa3-0bfd-4685-b592-f8ac44974198",
        "colab": {
          "base_uri": "https://localhost:8080/",
          "height": 255
        }
      },
      "source": [
        "import pandas as pd\n",
        "import numpy as np\n",
        "from pandas.api.types import is_string_dtype\n",
        "from pandas.api.types import is_numeric_dtype\n",
        "from sklearn import preprocessing\n",
        "from sklearn.model_selection import train_test_split\n",
        "from sklearn.ensemble import RandomForestClassifier as rf\n",
        "from sklearn.metrics import confusion_matrix as cm\n",
        "from sklearn.metrics import classification_report as cr\n",
        "# names=\n",
        "train = pd.read_csv(\"Census_Income.csv\",header=None)\n",
        "train.columns=['age','workclass','fnlwgt','education','education_num','marital_status','occupation','relationship','race','sex','capital_gain','capital_loss','hours_per_week','native_country','salary']\n",
        "# workclass ? to Private, drop education column as it is same as education-num, divide occupation ? 30% to Prof-specialty,Craft-repair,Exec-managerial, drop capital gain/loss as >29000 is 0, native country - ? with United-States\n",
        "train.workclass=train.workclass.str.replace(\"?\",\"Private\")\n",
        "# train[\"workclass\"].value_counts()\n",
        "train.native_country=train.native_country.str.replace(\"?\",\"United-States\")\n",
        "# train[\"native_country\"].value_counts()\n",
        "train.occupation=train.occupation.str.replace(\"?\",\"Prof-specialty\")\n",
        "train[\"occupation\"].value_counts()\n",
        "train=train.drop(columns=[\"education\",\"capital_gain\",\"capital_loss\"])\n",
        "# train.head()\n",
        "# encodee: workclass, marital-status, occupation, relationship, race, sex, native-country, salary\n",
        "# for col in train:\n",
        "  # print(col)\n",
        "  # print(len(train[col].unique()))\n",
        "  # print(train[col].value_counts())\n",
        "nulCount=train.isna().sum().sum()\n",
        "# print(nulCount)\n",
        "if nulCount>0:\n",
        "  for col in train:\n",
        "    count=train[col].isna().sum()\n",
        "    if count>0:\n",
        "      if(is_numeric_dtype(train[col])):\n",
        "        avg=train[col].mean(skipna=True)\n",
        "        train[col]=train[col].fillna(avg)\n",
        "      elif(is_string_dtype(train[col])):\n",
        "        max=train[col].value_counts().idxmax()\n",
        "        train[col]=train[col].fillna(max)\n",
        "\n",
        "# print(train.describe(include=\"all\"))\n",
        "# print(train)\n",
        "# print(train.isna().sum())\n",
        "le=preprocessing.LabelEncoder()\n",
        "# train[\"salary\"]=np.where(train[\"salary\"]=='>50K',0,1)\n",
        "train.salary=train.salary.str.replace(\"<=50K\",\"0\")\n",
        "train.salary=train[\"salary\"].str.replace(\">50K\",\"1\")\n",
        "print(train[\"salary\"].value_counts())\n",
        "for col in ['workclass','marital_status','occupation','relationship','race','sex','native_country']:\n",
        "  train[col]=le.fit_transform(train[col])\n",
        "y=train[\"salary\"]\n",
        "X=train.drop(columns=\"salary\")\n",
        "X_train,X_test,y_train,y_test=train_test_split(X,y,test_size=0.25,random_state=4)\n",
        "# print(X_train.shape)\n",
        "# y_train\n",
        "rfc=rf(n_estimators=100, max_depth=10)\n",
        "rfc=rfc.fit(X_train,y_train)\n",
        "pred=rfc.predict(X_test)\n",
        "pred\n",
        "print(cm(y_test,pred))\n",
        "print(cr(y_test, pred))"
      ],
      "execution_count": 111,
      "outputs": [
        {
          "output_type": "stream",
          "text": [
            " 0    24720\n",
            " 1     7841\n",
            "Name: salary, dtype: int64\n",
            "[[5715  457]\n",
            " [ 907 1062]]\n",
            "              precision    recall  f1-score   support\n",
            "\n",
            "           0       0.86      0.93      0.89      6172\n",
            "           1       0.70      0.54      0.61      1969\n",
            "\n",
            "    accuracy                           0.83      8141\n",
            "   macro avg       0.78      0.73      0.75      8141\n",
            "weighted avg       0.82      0.83      0.82      8141\n",
            "\n"
          ],
          "name": "stdout"
        }
      ]
    },
    {
      "cell_type": "code",
      "metadata": {
        "id": "7gmyx3IJygjh",
        "colab_type": "code",
        "colab": {}
      },
      "source": [
        ""
      ],
      "execution_count": 0,
      "outputs": []
    }
  ]
}